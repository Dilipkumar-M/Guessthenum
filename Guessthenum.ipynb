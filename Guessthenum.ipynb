{
  "cells": [
    {
      "cell_type": "markdown",
      "metadata": {
        "id": "view-in-github",
        "colab_type": "text"
      },
      "source": [
        "<a href=\"https://colab.research.google.com/github/Dilipkumar-M/Guessthenum/blob/main/Guessthenum.ipynb\" target=\"_parent\"><img src=\"https://colab.research.google.com/assets/colab-badge.svg\" alt=\"Open In Colab\"/></a>"
      ]
    },
    {
      "cell_type": "markdown",
      "metadata": {
        "id": "Im8EzMtI36vr"
      },
      "source": [
        "        DILIPKUMAR M \n",
        "        Presidency University.\n",
        "        Bangalore,KA.\n",
        "        \n",
        "\n",
        "Project to guess the numbers - Binary search algorithm!\n",
        "\n",
        "1.User will choose an integer between two numbers. And the computer will guess that number by asking questions to user.\n",
        "\n",
        "2.Concepts: While loop, Binary search algorithm.\n",
        "Binary search algorithm:\n",
        "\n",
        "a) Algorithms initial guess is the middle number of the range (lower and upper bound). Then the computer ask the user if the guessed number is high or low or correct with respect to chosen number by user. After every guess the computer will eliminate the search either lower half or upper half of total range. Based on the users reply the computer will guess another number and continue asking for users comment.\n",
        "\n",
        "b)As the number of iteration is not known to reach to the correct number so we will use while loop (not the for loop)."
      ]
    },
    {
      "cell_type": "code",
      "execution_count": null,
      "metadata": {
        "id": "d59Hrsn03PMA"
      },
      "outputs": [],
      "source": [
        "lower_bound = 0\n",
        "higher_bound = 500\n",
        "guessed_number = (lower_bound + higher_bound) // 2  # middle point of the interval.\n",
        "\n",
        "print(f\"\\nPlease choose any integer between {lower_bound} and {higher_bound} and keep it in your memory!\")\n",
        "print(\"I (computer) will try to guess your chosen number, please help me answering the following!\")\n",
        "\n",
        "search_status = True # to continue or break the while loop\n",
        "no_iterations_taken = 0 # to find the number of iterations.\n",
        "n_choice = [1, 2, 3]\n",
        "\n",
        "while search_status:\n",
        "    no_iterations_taken += 1\n",
        "    print(\"\\nComputer's guessed number is\", guessed_number, \"!\")\n",
        "    print(\"    Please enter 1: if computer's guessed number\",guessed_number, \"is lower than what you chose!\")\n",
        "    print(\"    Please enter 2: if computer's guessed number\",guessed_number, \"is higher than what you chose!\")\n",
        "    print(\"    Please enter 3: if computer's guessed number\",guessed_number, \"is correct!\")\n",
        "    user_input = int(input(\"Please enter your response: \"))\n",
        "    if user_input not in n_choice:\n",
        "        print(\"Invalid number, please enter the numbers from the list \", n_choice)\n",
        "    elif user_input == 1:\n",
        "        lower_bound = guessed_number\n",
        "    elif user_input == 2:\n",
        "        higher_bound = guessed_number\n",
        "    elif user_input == 3:\n",
        "        print(\"\\nThe correct number is\", guessed_number, \"!\")\n",
        "        if no_iterations_taken == 1:\n",
        "            print(\"Haha.. I found it only in\", no_iterations_taken, \"guess!!\") # Singular\n",
        "        else:\n",
        "            print(\"Haha.. I found it in\", no_iterations_taken, \"guesses!!\") # Plural\n",
        "        search_status = False  # statement to exit the while loop.\n",
        "    guessed_number = (lower_bound + higher_bound) // 2  # Update the computer's guessed number."
      ]
    }
  ],
  "metadata": {
    "colab": {
      "name": "Guessthenum.ipynb",
      "provenance": [],
      "collapsed_sections": [],
      "private_outputs": true,
      "authorship_tag": "ABX9TyNHJlQQq4QQO+wwFfQzRtuU",
      "include_colab_link": true
    },
    "kernelspec": {
      "display_name": "Python 3",
      "name": "python3"
    },
    "language_info": {
      "name": "python"
    },
    "accelerator": "GPU"
  },
  "nbformat": 4,
  "nbformat_minor": 0
}